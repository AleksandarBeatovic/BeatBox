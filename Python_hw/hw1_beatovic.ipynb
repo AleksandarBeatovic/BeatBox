{
 "cells": [
  {
   "cell_type": "code",
   "execution_count": 3,
   "metadata": {},
   "outputs": [
    {
     "name": "stdout",
     "output_type": "stream",
     "text": [
      "Isocitrate lyase (P28297) contains its active site P28297 starting from 211th position: svtKKCGHMagk.\n"
     ]
    }
   ],
   "source": [
    "import re\n",
    "import requests\n",
    "from functools import reduce\n",
    "\n",
    "fasta_url = 'https://www.uniprot.org/uniprot/P28297.fasta' #Arabidopsis thaliana isocitrate liase\n",
    "prosite_id = 'P28297'\n",
    "prosite_site = 'K-[KR]-C-G-H-[LMQR]'\n",
    "\n",
    "fasta = requests.get(fasta_url).text\n",
    "fasta_id = re.search(r'\\|(.+)\\|', fasta)[1]\n",
    "fasta = re.sub(r'>.+\\n|\\n', r'', fasta)\n",
    "\n",
    "prosite_to_regex = {'-':'', '{':'[^', '}':']', '(':'{', ')':'}', 'x':'.', '<':'^', '>':'$'}\n",
    "site_regex = reduce(lambda x, y: x.replace(y, prosite_to_regex[y]), prosite_to_regex, prosite_site)\n",
    "\n",
    "pattern = '(.{3})(' + site_regex + ')(.{3})'\n",
    "site = re.search(pattern, fasta)\n",
    "\n",
    "print(f'Isocitrate lyase ({fasta_id}) contains its active site {prosite_id} starting \\\n",
    "from {site.start() + 4}th position: {site[1].lower()}{site[2]}{site[3].lower()}.')"
   ]
  }
 ],
 "metadata": {
  "kernelspec": {
   "display_name": "Python 3",
   "language": "python",
   "name": "python3"
  },
  "language_info": {
   "codemirror_mode": {
    "name": "ipython",
    "version": 3
   },
   "file_extension": ".py",
   "mimetype": "text/x-python",
   "name": "python",
   "nbconvert_exporter": "python",
   "pygments_lexer": "ipython3",
   "version": "3.7.3"
  }
 },
 "nbformat": 4,
 "nbformat_minor": 2
}
