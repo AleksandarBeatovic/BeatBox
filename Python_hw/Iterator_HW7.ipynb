{
 "cells": [
  {
   "cell_type": "code",
   "execution_count": 1,
   "metadata": {},
   "outputs": [
    {
     "name": "stdout",
     "output_type": "stream",
     "text": [
      "(1, 2)\n",
      "(3, 4)\n"
     ]
    }
   ],
   "source": [
    "class MyList(list):\n",
    "    def __iter__ (self):\n",
    "        return PairOfElements(self)\n",
    "\n",
    "\n",
    "class PairOfElements:\n",
    "    def __init__(self,lst):\n",
    "        self.lst = lst\n",
    "        self.i = 0\n",
    "    def __next__(self):\n",
    "        if self.i < len(self.lst):\n",
    "            res = (self.lst[self.i], self.lst[self.i+1])\n",
    "            self.i += 2\n",
    "            return(res)\n",
    "        else:\n",
    "            raise StopIteration\n",
    "            \n",
    "            \n",
    "for pair in MyList([1,2,3,4]):\n",
    "    print(pair)\n",
    "        "
   ]
  }
 ],
 "metadata": {
  "kernelspec": {
   "display_name": "Python 3",
   "language": "python",
   "name": "python3"
  },
  "language_info": {
   "codemirror_mode": {
    "name": "ipython",
    "version": 3
   },
   "file_extension": ".py",
   "mimetype": "text/x-python",
   "name": "python",
   "nbconvert_exporter": "python",
   "pygments_lexer": "ipython3",
   "version": "3.7.3"
  }
 },
 "nbformat": 4,
 "nbformat_minor": 4
}
