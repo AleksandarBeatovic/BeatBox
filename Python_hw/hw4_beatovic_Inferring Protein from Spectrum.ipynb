{
 "cells": [
  {
   "cell_type": "code",
   "execution_count": 22,
   "metadata": {},
   "outputs": [
    {
     "name": "stdout",
     "output_type": "stream",
     "text": [
      "Done, 96 amino acids inferred! The resulting inferred protein string is:\n",
      "GYDCIGANGVHVYKNAKHFPNHQNCPWYRNSIIYEPQTNIPCDKPFVAHMPTVIPMVEQQVGKIVKVDIIHDYTMEITHTGMPVVIEFPQIWFCFM\n"
     ]
    }
   ],
   "source": [
    "# import weight values\n",
    "weight_values= []\n",
    "for line in open('rosalind_spec (1).txt','r'):\n",
    "    weight_values.append(float(line))\n",
    "\n",
    "# The monoisotopic mass table for amino acids is a table listing the mass of each possible amino acid residue,\n",
    "# where the value of the mass used is the monoisotopic mass of each residue.\n",
    "mass_table = {'A':71.03711,'C':103.00919,'D':115.02694,'E':129.04259,'F':147.06841,\n",
    "              'G':57.02146,'H':137.05891,'I':113.08406,'K':128.09496,'L':113.08406,\n",
    "              'M':131.04049,'N':114.04293,'P':97.05276,'Q':128.05858,'R':156.10111,\n",
    "              'S':87.03203,'T':101.04768,'V':99.06841,'W':186.07931,'Y':163.06333}\n",
    "\n",
    "#so the idea is to infer protein sequence from its spectrum, a poly amino acid chain would be measured, then have \n",
    "#its one amino acid cleaved and the remain chain would be measured again, the weight difference is the mass of \n",
    "#amino acid\n",
    "\n",
    "#key and value lists from mass_table dictionary, in order to access key from value later\n",
    "key_list = list(mass_table.keys()) \n",
    "val_list = list(mass_table.values()) \n",
    "\n",
    "protein_string = ''\n",
    "\n",
    "for i in range(len(weight_values)):\n",
    "    try:\n",
    "        protein_string += key_list[val_list.index(round(weight_values[i+1] - weight_values[i], 5))] \n",
    "    except IndexError:\n",
    "        print(f\"Done, {i} amino acids inferred! The resulting inferred protein string is:\\n{protein_string}\")\n",
    "\n"
   ]
  }
 ],
 "metadata": {
  "kernelspec": {
   "display_name": "Python 3",
   "language": "python",
   "name": "python3"
  },
  "language_info": {
   "codemirror_mode": {
    "name": "ipython",
    "version": 3
   },
   "file_extension": ".py",
   "mimetype": "text/x-python",
   "name": "python",
   "nbconvert_exporter": "python",
   "pygments_lexer": "ipython3",
   "version": "3.7.3"
  }
 },
 "nbformat": 4,
 "nbformat_minor": 2
}
